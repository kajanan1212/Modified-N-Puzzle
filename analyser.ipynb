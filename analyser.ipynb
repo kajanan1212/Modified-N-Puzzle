{
 "cells": [
  {
   "cell_type": "code",
   "execution_count": 1,
   "id": "d1b32dde",
   "metadata": {},
   "outputs": [],
   "source": [
    "import pandas as pd\n",
    "import scipy.stats as st\n",
    "import numpy as np"
   ]
  },
  {
   "cell_type": "code",
   "execution_count": 2,
   "id": "f7fec1c5",
   "metadata": {},
   "outputs": [
    {
     "data": {
      "text/html": [
       "<div>\n",
       "<style scoped>\n",
       "    .dataframe tbody tr th:only-of-type {\n",
       "        vertical-align: middle;\n",
       "    }\n",
       "\n",
       "    .dataframe tbody tr th {\n",
       "        vertical-align: top;\n",
       "    }\n",
       "\n",
       "    .dataframe thead th {\n",
       "        text-align: right;\n",
       "    }\n",
       "</style>\n",
       "<table border=\"1\" class=\"dataframe\">\n",
       "  <thead>\n",
       "    <tr style=\"text-align: right;\">\n",
       "      <th></th>\n",
       "      <th>n</th>\n",
       "      <th>num_step_taken(h_misplaced)</th>\n",
       "      <th>num_step_taken(h_manhattan)</th>\n",
       "      <th>num_step_taken(h_misplaced-h_manhattan)</th>\n",
       "    </tr>\n",
       "  </thead>\n",
       "  <tbody>\n",
       "    <tr>\n",
       "      <th>82</th>\n",
       "      <td>4</td>\n",
       "      <td>7</td>\n",
       "      <td>7</td>\n",
       "      <td>0</td>\n",
       "    </tr>\n",
       "    <tr>\n",
       "      <th>41</th>\n",
       "      <td>4</td>\n",
       "      <td>8</td>\n",
       "      <td>8</td>\n",
       "      <td>0</td>\n",
       "    </tr>\n",
       "    <tr>\n",
       "      <th>78</th>\n",
       "      <td>4</td>\n",
       "      <td>11</td>\n",
       "      <td>11</td>\n",
       "      <td>0</td>\n",
       "    </tr>\n",
       "    <tr>\n",
       "      <th>56</th>\n",
       "      <td>4</td>\n",
       "      <td>8</td>\n",
       "      <td>8</td>\n",
       "      <td>0</td>\n",
       "    </tr>\n",
       "    <tr>\n",
       "      <th>49</th>\n",
       "      <td>4</td>\n",
       "      <td>7</td>\n",
       "      <td>7</td>\n",
       "      <td>0</td>\n",
       "    </tr>\n",
       "  </tbody>\n",
       "</table>\n",
       "</div>"
      ],
      "text/plain": [
       "    n  num_step_taken(h_misplaced)  num_step_taken(h_manhattan)  \\\n",
       "82  4                            7                            7   \n",
       "41  4                            8                            8   \n",
       "78  4                           11                           11   \n",
       "56  4                            8                            8   \n",
       "49  4                            7                            7   \n",
       "\n",
       "    num_step_taken(h_misplaced-h_manhattan)  \n",
       "82                                        0  \n",
       "41                                        0  \n",
       "78                                        0  \n",
       "56                                        0  \n",
       "49                                        0  "
      ]
     },
     "execution_count": 2,
     "metadata": {},
     "output_type": "execute_result"
    }
   ],
   "source": [
    "df = pd.read_csv('experiment_result.csv')\n",
    "df.sample(5)"
   ]
  },
  {
   "cell_type": "code",
   "execution_count": 3,
   "id": "7b5e35df",
   "metadata": {},
   "outputs": [
    {
     "data": {
      "text/plain": [
       "n                                          4.00\n",
       "num_step_taken(h_misplaced)                7.56\n",
       "num_step_taken(h_manhattan)                6.78\n",
       "num_step_taken(h_misplaced-h_manhattan)    0.78\n",
       "dtype: float64"
      ]
     },
     "execution_count": 3,
     "metadata": {},
     "output_type": "execute_result"
    }
   ],
   "source": [
    "df.mean()"
   ]
  },
  {
   "cell_type": "code",
   "execution_count": 4,
   "id": "431fe509",
   "metadata": {},
   "outputs": [],
   "source": [
    "manhattan = np.array(df['num_step_taken(h_manhattan)'])\n",
    "misplaced = np.array(df['num_step_taken(h_misplaced)'])"
   ]
  },
  {
   "cell_type": "code",
   "execution_count": 5,
   "id": "56a3599d",
   "metadata": {},
   "outputs": [],
   "source": [
    "t_test = st.ttest_ind(a=misplaced,b = manhattan)"
   ]
  },
  {
   "cell_type": "code",
   "execution_count": 6,
   "id": "4154fe4f",
   "metadata": {},
   "outputs": [
    {
     "data": {
      "text/plain": [
       "1.0086922470833157"
      ]
     },
     "execution_count": 6,
     "metadata": {},
     "output_type": "execute_result"
    }
   ],
   "source": [
    "t_test.statistic"
   ]
  },
  {
   "cell_type": "code",
   "execution_count": 7,
   "id": "2c60a030",
   "metadata": {},
   "outputs": [
    {
     "data": {
      "text/plain": [
       "0.3143533348184606"
      ]
     },
     "execution_count": 7,
     "metadata": {},
     "output_type": "execute_result"
    }
   ],
   "source": [
    "t_test.pvalue"
   ]
  },
  {
   "cell_type": "markdown",
   "id": "5ecdc4b0",
   "metadata": {},
   "source": [
    "### Result: Total Manhattan Distance is better than Number of Misplaced Tiles"
   ]
  }
 ],
 "metadata": {
  "kernelspec": {
   "display_name": "Python 3 (ipykernel)",
   "language": "python",
   "name": "python3"
  },
  "language_info": {
   "codemirror_mode": {
    "name": "ipython",
    "version": 3
   },
   "file_extension": ".py",
   "mimetype": "text/x-python",
   "name": "python",
   "nbconvert_exporter": "python",
   "pygments_lexer": "ipython3",
   "version": "3.9.7"
  },
  "vscode": {
   "interpreter": {
    "hash": "7b68e2500bcff398ac51947d8c526ccda20351bf6caef027818c1796c6665a3e"
   }
  }
 },
 "nbformat": 4,
 "nbformat_minor": 5
}
